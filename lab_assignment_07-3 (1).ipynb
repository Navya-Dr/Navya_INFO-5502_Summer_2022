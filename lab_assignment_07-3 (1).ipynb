{
 "cells": [
  {
   "cell_type": "markdown",
   "metadata": {},
   "source": [
    "## The Seventh Lab-assignment (08/05/2022 11:59'AM' - 08/09/2022 11:59PM, 50 points in total)"
   ]
  },
  {
   "cell_type": "markdown",
   "metadata": {},
   "source": [
    "The purpose of this exercise is to understand how to conduct Sampling and Distributions. The data used in this lab assignment will contain salary data and other statistics for basketball players from the 2014-2015 NBA season. This data was collected from the following sports analytic sites: [Basketball Reference](http://www.basketball-reference.com) and [Spotrac](http://www.spotrac.com). The dataset of this assignment can be downloaded from github: https://github.com/suthapalliuday/INFO5502-Summer2022/tree/main/datasets/lab-assignment-7\n",
    "\n",
    "First, set up the tests and imports by running the cell below."
   ]
  },
  {
   "cell_type": "code",
   "execution_count": 1,
   "metadata": {},
   "outputs": [
    {
     "name": "stdout",
     "output_type": "stream",
     "text": [
      "Collecting datascience\n",
      "  Downloading datascience-0.17.5.tar.gz (727 kB)\n",
      "Collecting folium>=0.9.1\n",
      "  Downloading folium-0.12.1.post1-py2.py3-none-any.whl (95 kB)\n",
      "Requirement already satisfied: setuptools in c:\\users\\admin\\anaconda3\\lib\\site-packages (from datascience) (61.2.0)\n",
      "Requirement already satisfied: matplotlib>=3.0.0 in c:\\users\\admin\\anaconda3\\lib\\site-packages (from datascience) (3.5.1)\n",
      "Requirement already satisfied: pandas in c:\\users\\admin\\anaconda3\\lib\\site-packages (from datascience) (1.4.2)\n",
      "Requirement already satisfied: scipy in c:\\users\\admin\\anaconda3\\lib\\site-packages (from datascience) (1.7.3)\n",
      "Requirement already satisfied: numpy in c:\\users\\admin\\anaconda3\\lib\\site-packages (from datascience) (1.21.5)\n",
      "Requirement already satisfied: ipython in c:\\users\\admin\\anaconda3\\lib\\site-packages (from datascience) (8.2.0)\n",
      "Requirement already satisfied: plotly in c:\\users\\admin\\anaconda3\\lib\\site-packages (from datascience) (5.6.0)\n",
      "Collecting branca\n",
      "  Downloading branca-0.5.0-py3-none-any.whl (24 kB)\n",
      "Requirement already satisfied: requests in c:\\users\\admin\\anaconda3\\lib\\site-packages (from folium>=0.9.1->datascience) (2.27.1)\n",
      "Requirement already satisfied: jinja2>=2.9 in c:\\users\\admin\\anaconda3\\lib\\site-packages (from folium>=0.9.1->datascience) (2.11.3)\n",
      "Requirement already satisfied: MarkupSafe>=0.23 in c:\\users\\admin\\anaconda3\\lib\\site-packages (from jinja2>=2.9->folium>=0.9.1->datascience) (2.0.1)\n",
      "Requirement already satisfied: kiwisolver>=1.0.1 in c:\\users\\admin\\anaconda3\\lib\\site-packages (from matplotlib>=3.0.0->datascience) (1.3.2)\n",
      "Requirement already satisfied: fonttools>=4.22.0 in c:\\users\\admin\\anaconda3\\lib\\site-packages (from matplotlib>=3.0.0->datascience) (4.25.0)\n",
      "Requirement already satisfied: python-dateutil>=2.7 in c:\\users\\admin\\anaconda3\\lib\\site-packages (from matplotlib>=3.0.0->datascience) (2.8.2)\n",
      "Requirement already satisfied: pillow>=6.2.0 in c:\\users\\admin\\anaconda3\\lib\\site-packages (from matplotlib>=3.0.0->datascience) (9.0.1)\n",
      "Requirement already satisfied: packaging>=20.0 in c:\\users\\admin\\anaconda3\\lib\\site-packages (from matplotlib>=3.0.0->datascience) (21.3)\n",
      "Requirement already satisfied: cycler>=0.10 in c:\\users\\admin\\anaconda3\\lib\\site-packages (from matplotlib>=3.0.0->datascience) (0.11.0)\n",
      "Requirement already satisfied: pyparsing>=2.2.1 in c:\\users\\admin\\anaconda3\\lib\\site-packages (from matplotlib>=3.0.0->datascience) (3.0.4)\n",
      "Requirement already satisfied: six>=1.5 in c:\\users\\admin\\anaconda3\\lib\\site-packages (from python-dateutil>=2.7->matplotlib>=3.0.0->datascience) (1.16.0)\n",
      "Requirement already satisfied: jedi>=0.16 in c:\\users\\admin\\anaconda3\\lib\\site-packages (from ipython->datascience) (0.18.1)\n",
      "Requirement already satisfied: decorator in c:\\users\\admin\\anaconda3\\lib\\site-packages (from ipython->datascience) (5.1.1)\n",
      "Requirement already satisfied: matplotlib-inline in c:\\users\\admin\\anaconda3\\lib\\site-packages (from ipython->datascience) (0.1.2)\n",
      "Requirement already satisfied: stack-data in c:\\users\\admin\\anaconda3\\lib\\site-packages (from ipython->datascience) (0.2.0)\n",
      "Requirement already satisfied: pygments>=2.4.0 in c:\\users\\admin\\anaconda3\\lib\\site-packages (from ipython->datascience) (2.11.2)\n",
      "Requirement already satisfied: backcall in c:\\users\\admin\\anaconda3\\lib\\site-packages (from ipython->datascience) (0.2.0)\n",
      "Requirement already satisfied: prompt-toolkit!=3.0.0,!=3.0.1,<3.1.0,>=2.0.0 in c:\\users\\admin\\anaconda3\\lib\\site-packages (from ipython->datascience) (3.0.20)\n",
      "Requirement already satisfied: traitlets>=5 in c:\\users\\admin\\anaconda3\\lib\\site-packages (from ipython->datascience) (5.1.1)\n",
      "Requirement already satisfied: colorama in c:\\users\\admin\\anaconda3\\lib\\site-packages (from ipython->datascience) (0.4.4)\n",
      "Requirement already satisfied: pickleshare in c:\\users\\admin\\anaconda3\\lib\\site-packages (from ipython->datascience) (0.7.5)\n",
      "Requirement already satisfied: parso<0.9.0,>=0.8.0 in c:\\users\\admin\\anaconda3\\lib\\site-packages (from jedi>=0.16->ipython->datascience) (0.8.3)\n",
      "Requirement already satisfied: wcwidth in c:\\users\\admin\\anaconda3\\lib\\site-packages (from prompt-toolkit!=3.0.0,!=3.0.1,<3.1.0,>=2.0.0->ipython->datascience) (0.2.5)\n",
      "Requirement already satisfied: pytz>=2020.1 in c:\\users\\admin\\anaconda3\\lib\\site-packages (from pandas->datascience) (2021.3)\n",
      "Requirement already satisfied: tenacity>=6.2.0 in c:\\users\\admin\\anaconda3\\lib\\site-packages (from plotly->datascience) (8.0.1)\n",
      "Requirement already satisfied: certifi>=2017.4.17 in c:\\users\\admin\\anaconda3\\lib\\site-packages (from requests->folium>=0.9.1->datascience) (2021.10.8)\n",
      "Requirement already satisfied: idna<4,>=2.5 in c:\\users\\admin\\anaconda3\\lib\\site-packages (from requests->folium>=0.9.1->datascience) (3.3)\n",
      "Requirement already satisfied: urllib3<1.27,>=1.21.1 in c:\\users\\admin\\anaconda3\\lib\\site-packages (from requests->folium>=0.9.1->datascience) (1.26.9)\n",
      "Requirement already satisfied: charset-normalizer~=2.0.0 in c:\\users\\admin\\anaconda3\\lib\\site-packages (from requests->folium>=0.9.1->datascience) (2.0.4)\n",
      "Requirement already satisfied: pure-eval in c:\\users\\admin\\anaconda3\\lib\\site-packages (from stack-data->ipython->datascience) (0.2.2)\n",
      "Requirement already satisfied: executing in c:\\users\\admin\\anaconda3\\lib\\site-packages (from stack-data->ipython->datascience) (0.8.3)\n",
      "Requirement already satisfied: asttokens in c:\\users\\admin\\anaconda3\\lib\\site-packages (from stack-data->ipython->datascience) (2.0.5)\n",
      "Building wheels for collected packages: datascience\n",
      "  Building wheel for datascience (setup.py): started\n",
      "  Building wheel for datascience (setup.py): finished with status 'done'\n",
      "  Created wheel for datascience: filename=datascience-0.17.5-py3-none-any.whl size=732546 sha256=e5c15a0ca079cc963e4bf5a0c55bbb93a81cd8c66a07dbab67d76e32dc771134\n",
      "  Stored in directory: c:\\users\\admin\\appdata\\local\\pip\\cache\\wheels\\74\\0a\\88\\e52ce8c2533663326372f4be6eba170267fb70dc6252234186\n",
      "Successfully built datascience\n",
      "Installing collected packages: branca, folium, datascience\n",
      "Successfully installed branca-0.5.0 datascience-0.17.5 folium-0.12.1.post1\n"
     ]
    }
   ],
   "source": [
    "# Install the required package\n",
    "!pip install datascience"
   ]
  },
  {
   "cell_type": "code",
   "execution_count": 110,
   "metadata": {},
   "outputs": [],
   "source": [
    "# Run this cell, but please don't change it.\n",
    "\n",
    "# These lines import the Numpy and Datascience modules.\n",
    "import numpy as np\n",
    "from datascience import *\n",
    "\n",
    "# These lines do some fancy plotting magic\n",
    "import matplotlib\n",
    "%matplotlib inline\n",
    "import matplotlib.pyplot as plt\n",
    "plt.style.use('fivethirtyeight')"
   ]
  },
  {
   "cell_type": "markdown",
   "metadata": {},
   "source": [
    "Run the cell below to load player and salary data that we will use for our sampling."
   ]
  },
  {
   "cell_type": "code",
   "execution_count": 111,
   "metadata": {},
   "outputs": [
    {
     "data": {
      "text/html": [
       "<table border=\"1\" class=\"dataframe\">\n",
       "    <thead>\n",
       "        <tr>\n",
       "            <th>Name</th> <th>Age</th> <th>Team</th> <th>Games</th> <th>Rebounds</th> <th>Assists</th> <th>Steals</th> <th>Blocks</th> <th>Turnovers</th> <th>Points</th>\n",
       "        </tr>\n",
       "    </thead>\n",
       "    <tbody>\n",
       "        <tr>\n",
       "            <td>James Harden </td> <td>25  </td> <td>HOU </td> <td>81   </td> <td>459     </td> <td>565    </td> <td>154   </td> <td>60    </td> <td>321      </td> <td>2217  </td>\n",
       "        </tr>\n",
       "        <tr>\n",
       "            <td>Chris Paul   </td> <td>29  </td> <td>LAC </td> <td>82   </td> <td>376     </td> <td>838    </td> <td>156   </td> <td>15    </td> <td>190      </td> <td>1564  </td>\n",
       "        </tr>\n",
       "        <tr>\n",
       "            <td>Stephen Curry</td> <td>26  </td> <td>GSW </td> <td>80   </td> <td>341     </td> <td>619    </td> <td>163   </td> <td>16    </td> <td>249      </td> <td>1900  </td>\n",
       "        </tr>\n",
       "    </tbody>\n",
       "</table>\n",
       "<p>... (489 rows omitted)</p>"
      ],
      "text/plain": [
       "<IPython.core.display.HTML object>"
      ]
     },
     "metadata": {},
     "output_type": "display_data"
    },
    {
     "data": {
      "text/html": [
       "<table border=\"1\" class=\"dataframe\">\n",
       "    <thead>\n",
       "        <tr>\n",
       "            <th>PlayerName</th> <th>Salary</th>\n",
       "        </tr>\n",
       "    </thead>\n",
       "    <tbody>\n",
       "        <tr>\n",
       "            <td>Kobe Bryant      </td> <td>23500000</td>\n",
       "        </tr>\n",
       "        <tr>\n",
       "            <td>Amar'e Stoudemire</td> <td>23410988</td>\n",
       "        </tr>\n",
       "        <tr>\n",
       "            <td>Joe Johnson      </td> <td>23180790</td>\n",
       "        </tr>\n",
       "    </tbody>\n",
       "</table>\n",
       "<p>... (489 rows omitted)</p>"
      ],
      "text/plain": [
       "<IPython.core.display.HTML object>"
      ]
     },
     "metadata": {},
     "output_type": "display_data"
    },
    {
     "data": {
      "text/html": [
       "<table border=\"1\" class=\"dataframe\">\n",
       "    <thead>\n",
       "        <tr>\n",
       "            <th>PlayerName</th> <th>Salary</th> <th>Age</th> <th>Team</th> <th>Games</th> <th>Rebounds</th> <th>Assists</th> <th>Steals</th> <th>Blocks</th> <th>Turnovers</th> <th>Points</th>\n",
       "        </tr>\n",
       "    </thead>\n",
       "    <tbody>\n",
       "        <tr>\n",
       "            <td>A.J. Price  </td> <td>62552  </td> <td>28  </td> <td>TOT </td> <td>26   </td> <td>32      </td> <td>46     </td> <td>7     </td> <td>0     </td> <td>14       </td> <td>133   </td>\n",
       "        </tr>\n",
       "        <tr>\n",
       "            <td>Aaron Brooks</td> <td>1145685</td> <td>30  </td> <td>CHI </td> <td>82   </td> <td>166     </td> <td>261    </td> <td>54    </td> <td>15    </td> <td>157      </td> <td>954   </td>\n",
       "        </tr>\n",
       "        <tr>\n",
       "            <td>Aaron Gordon</td> <td>3992040</td> <td>19  </td> <td>ORL </td> <td>47   </td> <td>169     </td> <td>33     </td> <td>21    </td> <td>22    </td> <td>38       </td> <td>243   </td>\n",
       "        </tr>\n",
       "    </tbody>\n",
       "</table>\n",
       "<p>... (489 rows omitted)</p>"
      ],
      "text/plain": [
       "<IPython.core.display.HTML object>"
      ]
     },
     "metadata": {},
     "output_type": "display_data"
    }
   ],
   "source": [
    "player_data = Table().read_table(\"player_data.csv\")\n",
    "salary_data = Table().read_table(\"salary_data.csv\")\n",
    "full_data = salary_data.join(\"PlayerName\", player_data, \"Name\")\n",
    "\n",
    "# The show method immediately displays the contents of a table. \n",
    "# This way, we can display the top of two tables using a single cell.\n",
    "player_data.show(3)\n",
    "salary_data.show(3)\n",
    "full_data.show(3)"
   ]
  },
  {
   "cell_type": "markdown",
   "metadata": {},
   "source": [
    "Rather than getting data on every player (as in the tables loaded above), imagine that we had gotten data on only a smaller subset of the players. For 492 players, it's not so unreasonable to expect to see all the data, but usually we aren't so lucky.\n",
    "\n",
    "If we want to make estimates about a certain numerical property of the population (known as a statistic, e.g. the mean or median), we may have to come up with these estimates based only on a smaller sample. Whether these estimates are useful or not often depends on how the sample was gathered. We have prepared some example sample datasets to see how they compare to the full NBA dataset. Later we'll ask you to create your own samples to see how they behave."
   ]
  },
  {
   "cell_type": "markdown",
   "metadata": {},
   "source": [
    "To save typing and increase the clarity of your code, we will package the analysis code into a few functions. This will be useful in the rest of the lab as we will repeatedly need to create histograms and collect summary statistics from that data."
   ]
  },
  {
   "cell_type": "markdown",
   "metadata": {},
   "source": [
    "We've defined the histograms function below, which takes a table with columns Age and Salary and draws a histogram for each one. It uses bin widths of 1 year for Age and $1,000,000 for Salary."
   ]
  },
  {
   "cell_type": "code",
   "execution_count": 81,
   "metadata": {},
   "outputs": [
    {
     "name": "stdout",
     "output_type": "stream",
     "text": [
      "Two histograms should be displayed below\n"
     ]
    },
    {
     "data": {
      "image/png": "[encoded data removed]",
      "text/plain": [
       "<Figure size 432x288 with 1 Axes>"
      ]
     },
     "metadata": {},
     "output_type": "display_data"
    },
    {
     "data": {
      "image/png": "[encoded data removed]",
      "text/plain": [
       "<Figure size 432x288 with 1 Axes>"
      ]
     },
     "metadata": {},
     "output_type": "display_data"
    }
   ],
   "source": [
    "def histograms(t):\n",
    "    ages = t.column('Age')\n",
    "    salaries = t.column('Salary')/1000000\n",
    "    t1 = t.drop('Salary').with_column('Salary', salaries)\n",
    "    age_bins = np.arange(min(ages), max(ages) + 2, 1) \n",
    "    salary_bins = np.arange(min(salaries), max(salaries) + 1, 1)\n",
    "    t1.hist('Age', bins=age_bins, unit='year')\n",
    "    plt.title('Age distribution')\n",
    "    t1.hist('Salary', bins=salary_bins, unit='million dollars')\n",
    "    plt.title('Salary distribution') \n",
    "# print(full_data)\n",
    "histograms(full_data)\n",
    "print('Two histograms should be displayed below')"
   ]
  },
  {
   "cell_type": "markdown",
   "metadata": {},
   "source": [
    "### Question 1 (10 points) \n",
    "\n",
    "Create a function called compute_statistics that takes a table containing ages and salaries and:\n",
    "\n",
    "(1) Draws a histogram of ages\n",
    "\n",
    "(2) Draws a histogram of salaries\n",
    "\n",
    "(3) Returns a two-element array containing the average age and average salary (in that order)\n",
    "\n",
    "\n",
    "You can call the histograms function to draw the histograms!\n",
    "\n",
    "Note: More charts will be displayed when running the test cell. Please feel free to ignore the charts."
   ]
  },
  {
   "cell_type": "code",
   "execution_count": 82,
   "metadata": {},
   "outputs": [
    {
     "data": {
      "text/plain": [
       "array([  2.65365854e+01,   4.26977577e+06])"
      ]
     },
     "execution_count": 82,
     "metadata": {},
     "output_type": "execute_result"
    },
    {
     "data": {
      "image/png": "[encoded data removed]",
      "text/plain": [
       "<Figure size 432x288 with 1 Axes>"
      ]
     },
     "metadata": {},
     "output_type": "display_data"
    },
    {
     "data": {
      "image/png": "[encoded data removed]",
      "text/plain": [
       "<Figure size 432x288 with 1 Axes>"
      ]
     },
     "metadata": {},
     "output_type": "display_data"
    }
   ],
   "source": [
    "### You code here\n",
    "\n",
    "def compute_statistics(age_and_salary_data):\n",
    "    histograms(age_and_salary_data)\n",
    "    age=age_and_salary_data.column('Age')\n",
    "    salary=age_and_salary_data.column('Salary')\n",
    "    return np.array([np.mean(age),np.mean(salary)])\n",
    "\n",
    "full_stats = compute_statistics(full_data)\n",
    "full_stats\n",
    "\n"
   ]
  },
  {
   "cell_type": "code",
   "execution_count": 60,
   "metadata": {},
   "outputs": [
    {
     "data": {
      "text/plain": [
       "True"
      ]
     },
     "execution_count": 60,
     "metadata": {},
     "output_type": "execute_result"
    }
   ],
   "source": [
    "# TEST\n",
    "stats = compute_statistics(full_data)\n",
    "plt.close()\n",
    "plt.close()\n",
    "round(float(stats[0]), 2) == 26.54\n",
    "\n"
   ]
  },
  {
   "cell_type": "code",
   "execution_count": 61,
   "metadata": {},
   "outputs": [
    {
     "data": {
      "text/plain": [
       "True"
      ]
     },
     "execution_count": 61,
     "metadata": {},
     "output_type": "execute_result"
    }
   ],
   "source": [
    "# TEST\n",
    "stats = compute_statistics(full_data)\n",
    "plt.close()\n",
    "plt.close()\n",
    "round(float(stats[1]), 2) == 4269775.77\n",
    "\n"
   ]
  },
  {
   "cell_type": "markdown",
   "metadata": {},
   "source": [
    "### Question 2 (10 points) Convenience sampling\n",
    "\n",
    "One sampling methodology, which is generally a bad idea, is to choose players who are somehow convenient to sample. For example, you might choose players from one team who are near your house, since it's easier to survey them. This is called, somewhat pejoratively, convenience sampling.\n",
    "\n",
    "Suppose you survey only relatively new players with ages less than 22. (The more experienced players didn't bother to answer your surveys about their salaries.)\n",
    "\n",
    "Assign `convenience_sample` to a subset of `full_data` that contains only the rows for players under the age of 22."
   ]
  },
  {
   "cell_type": "code",
   "execution_count": 99,
   "metadata": {},
   "outputs": [
    {
     "data": {
      "text/html": [
       "<div>\n",
       "<style scoped>\n",
       "    .dataframe tbody tr th:only-of-type {\n",
       "        vertical-align: middle;\n",
       "    }\n",
       "\n",
       "    .dataframe tbody tr th {\n",
       "        vertical-align: top;\n",
       "    }\n",
       "\n",
       "    .dataframe thead th {\n",
       "        text-align: right;\n",
       "    }\n",
       "</style>\n",
       "<table border=\"1\" class=\"dataframe\">\n",
       "  <thead>\n",
       "    <tr style=\"text-align: right;\">\n",
       "      <th></th>\n",
       "      <th>Name</th>\n",
       "      <th>Age</th>\n",
       "      <th>Team</th>\n",
       "      <th>Games</th>\n",
       "      <th>Rebounds</th>\n",
       "      <th>Assists</th>\n",
       "      <th>Steals</th>\n",
       "      <th>Blocks</th>\n",
       "      <th>Turnovers</th>\n",
       "      <th>Points</th>\n",
       "      <th>PlayerName</th>\n",
       "      <th>Salary</th>\n",
       "    </tr>\n",
       "  </thead>\n",
       "  <tbody>\n",
       "    <tr>\n",
       "      <th>3</th>\n",
       "      <td>Anthony Davis</td>\n",
       "      <td>21</td>\n",
       "      <td>NOP</td>\n",
       "      <td>68</td>\n",
       "      <td>696</td>\n",
       "      <td>149</td>\n",
       "      <td>100</td>\n",
       "      <td>200</td>\n",
       "      <td>95</td>\n",
       "      <td>1656</td>\n",
       "      <td>Carmelo Anthony</td>\n",
       "      <td>22458401</td>\n",
       "    </tr>\n",
       "    <tr>\n",
       "      <th>29</th>\n",
       "      <td>Andre Drummond</td>\n",
       "      <td>21</td>\n",
       "      <td>DET</td>\n",
       "      <td>82</td>\n",
       "      <td>1104</td>\n",
       "      <td>55</td>\n",
       "      <td>73</td>\n",
       "      <td>153</td>\n",
       "      <td>120</td>\n",
       "      <td>1130</td>\n",
       "      <td>DeMarcus Cousins</td>\n",
       "      <td>14746000</td>\n",
       "    </tr>\n",
       "    <tr>\n",
       "      <th>52</th>\n",
       "      <td>Giannis Antetokounmpo</td>\n",
       "      <td>20</td>\n",
       "      <td>MIL</td>\n",
       "      <td>81</td>\n",
       "      <td>542</td>\n",
       "      <td>207</td>\n",
       "      <td>73</td>\n",
       "      <td>85</td>\n",
       "      <td>173</td>\n",
       "      <td>1030</td>\n",
       "      <td>DeAndre Jordan</td>\n",
       "      <td>11440124</td>\n",
       "    </tr>\n",
       "    <tr>\n",
       "      <th>100</th>\n",
       "      <td>Steven Adams</td>\n",
       "      <td>21</td>\n",
       "      <td>OKC</td>\n",
       "      <td>70</td>\n",
       "      <td>523</td>\n",
       "      <td>66</td>\n",
       "      <td>38</td>\n",
       "      <td>86</td>\n",
       "      <td>99</td>\n",
       "      <td>537</td>\n",
       "      <td>J.J. Redick</td>\n",
       "      <td>6792500</td>\n",
       "    </tr>\n",
       "    <tr>\n",
       "      <th>112</th>\n",
       "      <td>Nerlens Noel</td>\n",
       "      <td>20</td>\n",
       "      <td>PHI</td>\n",
       "      <td>75</td>\n",
       "      <td>611</td>\n",
       "      <td>128</td>\n",
       "      <td>133</td>\n",
       "      <td>142</td>\n",
       "      <td>146</td>\n",
       "      <td>744</td>\n",
       "      <td>Kyle Korver</td>\n",
       "      <td>6253521</td>\n",
       "    </tr>\n",
       "    <tr>\n",
       "      <th>123</th>\n",
       "      <td>Michael Kidd-Gilchrist</td>\n",
       "      <td>21</td>\n",
       "      <td>CHO</td>\n",
       "      <td>55</td>\n",
       "      <td>416</td>\n",
       "      <td>77</td>\n",
       "      <td>30</td>\n",
       "      <td>38</td>\n",
       "      <td>63</td>\n",
       "      <td>598</td>\n",
       "      <td>Enes Kanter</td>\n",
       "      <td>5694674</td>\n",
       "    </tr>\n",
       "    <tr>\n",
       "      <th>125</th>\n",
       "      <td>Bradley Beal</td>\n",
       "      <td>21</td>\n",
       "      <td>WAS</td>\n",
       "      <td>63</td>\n",
       "      <td>241</td>\n",
       "      <td>194</td>\n",
       "      <td>76</td>\n",
       "      <td>18</td>\n",
       "      <td>123</td>\n",
       "      <td>962</td>\n",
       "      <td>Anthony Bennett</td>\n",
       "      <td>5563920</td>\n",
       "    </tr>\n",
       "    <tr>\n",
       "      <th>153</th>\n",
       "      <td>Alex Len</td>\n",
       "      <td>21</td>\n",
       "      <td>PHO</td>\n",
       "      <td>69</td>\n",
       "      <td>454</td>\n",
       "      <td>32</td>\n",
       "      <td>34</td>\n",
       "      <td>105</td>\n",
       "      <td>74</td>\n",
       "      <td>432</td>\n",
       "      <td>Timofey Mozgov</td>\n",
       "      <td>4650000</td>\n",
       "    </tr>\n",
       "    <tr>\n",
       "      <th>172</th>\n",
       "      <td>Marcus Smart</td>\n",
       "      <td>20</td>\n",
       "      <td>BOS</td>\n",
       "      <td>67</td>\n",
       "      <td>222</td>\n",
       "      <td>208</td>\n",
       "      <td>99</td>\n",
       "      <td>18</td>\n",
       "      <td>90</td>\n",
       "      <td>523</td>\n",
       "      <td>Vince Carter</td>\n",
       "      <td>3911981</td>\n",
       "    </tr>\n",
       "    <tr>\n",
       "      <th>175</th>\n",
       "      <td>Kentavious Caldwell-Pope</td>\n",
       "      <td>21</td>\n",
       "      <td>DET</td>\n",
       "      <td>82</td>\n",
       "      <td>255</td>\n",
       "      <td>109</td>\n",
       "      <td>93</td>\n",
       "      <td>18</td>\n",
       "      <td>94</td>\n",
       "      <td>1043</td>\n",
       "      <td>Bismack Biyombo</td>\n",
       "      <td>3873398</td>\n",
       "    </tr>\n",
       "    <tr>\n",
       "      <th>185</th>\n",
       "      <td>Otto Porter</td>\n",
       "      <td>21</td>\n",
       "      <td>WAS</td>\n",
       "      <td>74</td>\n",
       "      <td>221</td>\n",
       "      <td>65</td>\n",
       "      <td>44</td>\n",
       "      <td>30</td>\n",
       "      <td>52</td>\n",
       "      <td>445</td>\n",
       "      <td>Brandon Knight</td>\n",
       "      <td>3553917</td>\n",
       "    </tr>\n",
       "    <tr>\n",
       "      <th>194</th>\n",
       "      <td>Ben McLemore</td>\n",
       "      <td>21</td>\n",
       "      <td>SAC</td>\n",
       "      <td>82</td>\n",
       "      <td>241</td>\n",
       "      <td>140</td>\n",
       "      <td>77</td>\n",
       "      <td>19</td>\n",
       "      <td>138</td>\n",
       "      <td>996</td>\n",
       "      <td>Tyler Hansbrough</td>\n",
       "      <td>3326235</td>\n",
       "    </tr>\n",
       "    <tr>\n",
       "      <th>196</th>\n",
       "      <td>Dennis Schroder</td>\n",
       "      <td>21</td>\n",
       "      <td>ATL</td>\n",
       "      <td>77</td>\n",
       "      <td>164</td>\n",
       "      <td>317</td>\n",
       "      <td>49</td>\n",
       "      <td>4</td>\n",
       "      <td>150</td>\n",
       "      <td>768</td>\n",
       "      <td>Nerlens Noel</td>\n",
       "      <td>3315120</td>\n",
       "    </tr>\n",
       "    <tr>\n",
       "      <th>208</th>\n",
       "      <td>Elfrid Payton</td>\n",
       "      <td>20</td>\n",
       "      <td>ORL</td>\n",
       "      <td>82</td>\n",
       "      <td>349</td>\n",
       "      <td>533</td>\n",
       "      <td>142</td>\n",
       "      <td>20</td>\n",
       "      <td>203</td>\n",
       "      <td>731</td>\n",
       "      <td>Chris Copeland</td>\n",
       "      <td>3135000</td>\n",
       "    </tr>\n",
       "    <tr>\n",
       "      <th>226</th>\n",
       "      <td>Andrew Wiggins</td>\n",
       "      <td>19</td>\n",
       "      <td>MIN</td>\n",
       "      <td>82</td>\n",
       "      <td>374</td>\n",
       "      <td>170</td>\n",
       "      <td>86</td>\n",
       "      <td>50</td>\n",
       "      <td>177</td>\n",
       "      <td>1387</td>\n",
       "      <td>Kentavious Caldwell-Pope</td>\n",
       "      <td>2772480</td>\n",
       "    </tr>\n",
       "    <tr>\n",
       "      <th>258</th>\n",
       "      <td>Jusuf Nurkic</td>\n",
       "      <td>20</td>\n",
       "      <td>DEN</td>\n",
       "      <td>62</td>\n",
       "      <td>382</td>\n",
       "      <td>50</td>\n",
       "      <td>52</td>\n",
       "      <td>68</td>\n",
       "      <td>86</td>\n",
       "      <td>426</td>\n",
       "      <td>Beno Udrih</td>\n",
       "      <td>2077000</td>\n",
       "    </tr>\n",
       "    <tr>\n",
       "      <th>289</th>\n",
       "      <td>Jabari Parker</td>\n",
       "      <td>19</td>\n",
       "      <td>MIL</td>\n",
       "      <td>25</td>\n",
       "      <td>138</td>\n",
       "      <td>42</td>\n",
       "      <td>31</td>\n",
       "      <td>5</td>\n",
       "      <td>47</td>\n",
       "      <td>308</td>\n",
       "      <td>Ryan Kelly</td>\n",
       "      <td>1650000</td>\n",
       "    </tr>\n",
       "    <tr>\n",
       "      <th>308</th>\n",
       "      <td>T.J. Warren</td>\n",
       "      <td>21</td>\n",
       "      <td>PHO</td>\n",
       "      <td>40</td>\n",
       "      <td>85</td>\n",
       "      <td>25</td>\n",
       "      <td>18</td>\n",
       "      <td>9</td>\n",
       "      <td>27</td>\n",
       "      <td>245</td>\n",
       "      <td>Jannero Pargo</td>\n",
       "      <td>1448490</td>\n",
       "    </tr>\n",
       "    <tr>\n",
       "      <th>311</th>\n",
       "      <td>Aaron Gordon</td>\n",
       "      <td>19</td>\n",
       "      <td>ORL</td>\n",
       "      <td>47</td>\n",
       "      <td>169</td>\n",
       "      <td>33</td>\n",
       "      <td>21</td>\n",
       "      <td>22</td>\n",
       "      <td>38</td>\n",
       "      <td>243</td>\n",
       "      <td>Jared Sullinger</td>\n",
       "      <td>1424520</td>\n",
       "    </tr>\n",
       "    <tr>\n",
       "      <th>331</th>\n",
       "      <td>Sergey Karasev</td>\n",
       "      <td>21</td>\n",
       "      <td>BRK</td>\n",
       "      <td>33</td>\n",
       "      <td>66</td>\n",
       "      <td>46</td>\n",
       "      <td>23</td>\n",
       "      <td>1</td>\n",
       "      <td>24</td>\n",
       "      <td>153</td>\n",
       "      <td>Pero Antic</td>\n",
       "      <td>1250000</td>\n",
       "    </tr>\n",
       "    <tr>\n",
       "      <th>336</th>\n",
       "      <td>K.J. McDaniels</td>\n",
       "      <td>21</td>\n",
       "      <td>TOT</td>\n",
       "      <td>62</td>\n",
       "      <td>200</td>\n",
       "      <td>72</td>\n",
       "      <td>44</td>\n",
       "      <td>70</td>\n",
       "      <td>105</td>\n",
       "      <td>487</td>\n",
       "      <td>Tony Wroten</td>\n",
       "      <td>1210080</td>\n",
       "    </tr>\n",
       "    <tr>\n",
       "      <th>340</th>\n",
       "      <td>JaKarr Sampson</td>\n",
       "      <td>21</td>\n",
       "      <td>PHI</td>\n",
       "      <td>74</td>\n",
       "      <td>163</td>\n",
       "      <td>77</td>\n",
       "      <td>38</td>\n",
       "      <td>26</td>\n",
       "      <td>76</td>\n",
       "      <td>386</td>\n",
       "      <td>Andre Roberson</td>\n",
       "      <td>1160880</td>\n",
       "    </tr>\n",
       "    <tr>\n",
       "      <th>342</th>\n",
       "      <td>Jerami Grant</td>\n",
       "      <td>20</td>\n",
       "      <td>PHI</td>\n",
       "      <td>65</td>\n",
       "      <td>198</td>\n",
       "      <td>79</td>\n",
       "      <td>40</td>\n",
       "      <td>68</td>\n",
       "      <td>85</td>\n",
       "      <td>411</td>\n",
       "      <td>Cartier Martin</td>\n",
       "      <td>1145686</td>\n",
       "    </tr>\n",
       "    <tr>\n",
       "      <th>349</th>\n",
       "      <td>Nik Stauskas</td>\n",
       "      <td>21</td>\n",
       "      <td>SAC</td>\n",
       "      <td>73</td>\n",
       "      <td>88</td>\n",
       "      <td>67</td>\n",
       "      <td>20</td>\n",
       "      <td>17</td>\n",
       "      <td>40</td>\n",
       "      <td>319</td>\n",
       "      <td>C.J. Wilcox</td>\n",
       "      <td>1109760</td>\n",
       "    </tr>\n",
       "    <tr>\n",
       "      <th>350</th>\n",
       "      <td>Jarnell Stokes</td>\n",
       "      <td>21</td>\n",
       "      <td>MEM</td>\n",
       "      <td>19</td>\n",
       "      <td>34</td>\n",
       "      <td>4</td>\n",
       "      <td>5</td>\n",
       "      <td>5</td>\n",
       "      <td>7</td>\n",
       "      <td>57</td>\n",
       "      <td>Al-Farouq Aminu</td>\n",
       "      <td>1100602</td>\n",
       "    </tr>\n",
       "    <tr>\n",
       "      <th>352</th>\n",
       "      <td>Noah Vonleh</td>\n",
       "      <td>19</td>\n",
       "      <td>CHO</td>\n",
       "      <td>25</td>\n",
       "      <td>86</td>\n",
       "      <td>4</td>\n",
       "      <td>4</td>\n",
       "      <td>9</td>\n",
       "      <td>11</td>\n",
       "      <td>83</td>\n",
       "      <td>Kyle Anderson</td>\n",
       "      <td>1093680</td>\n",
       "    </tr>\n",
       "    <tr>\n",
       "      <th>354</th>\n",
       "      <td>Jordan Adams</td>\n",
       "      <td>20</td>\n",
       "      <td>MEM</td>\n",
       "      <td>30</td>\n",
       "      <td>28</td>\n",
       "      <td>16</td>\n",
       "      <td>16</td>\n",
       "      <td>7</td>\n",
       "      <td>14</td>\n",
       "      <td>94</td>\n",
       "      <td>Xavier Henry</td>\n",
       "      <td>1082000</td>\n",
       "    </tr>\n",
       "    <tr>\n",
       "      <th>367</th>\n",
       "      <td>Kyle Anderson</td>\n",
       "      <td>21</td>\n",
       "      <td>SAS</td>\n",
       "      <td>33</td>\n",
       "      <td>72</td>\n",
       "      <td>28</td>\n",
       "      <td>15</td>\n",
       "      <td>7</td>\n",
       "      <td>10</td>\n",
       "      <td>74</td>\n",
       "      <td>Garrett Temple</td>\n",
       "      <td>981084</td>\n",
       "    </tr>\n",
       "    <tr>\n",
       "      <th>368</th>\n",
       "      <td>Anthony Bennett</td>\n",
       "      <td>21</td>\n",
       "      <td>MIN</td>\n",
       "      <td>57</td>\n",
       "      <td>216</td>\n",
       "      <td>48</td>\n",
       "      <td>27</td>\n",
       "      <td>16</td>\n",
       "      <td>36</td>\n",
       "      <td>298</td>\n",
       "      <td>Jeff Adrien</td>\n",
       "      <td>981084</td>\n",
       "    </tr>\n",
       "    <tr>\n",
       "      <th>375</th>\n",
       "      <td>Maurice Harkless</td>\n",
       "      <td>21</td>\n",
       "      <td>ORL</td>\n",
       "      <td>45</td>\n",
       "      <td>106</td>\n",
       "      <td>25</td>\n",
       "      <td>32</td>\n",
       "      <td>9</td>\n",
       "      <td>27</td>\n",
       "      <td>158</td>\n",
       "      <td>Joey Dorsey</td>\n",
       "      <td>948163</td>\n",
       "    </tr>\n",
       "    <tr>\n",
       "      <th>384</th>\n",
       "      <td>Tony Wroten</td>\n",
       "      <td>21</td>\n",
       "      <td>PHI</td>\n",
       "      <td>30</td>\n",
       "      <td>86</td>\n",
       "      <td>157</td>\n",
       "      <td>48</td>\n",
       "      <td>8</td>\n",
       "      <td>113</td>\n",
       "      <td>507</td>\n",
       "      <td>Jae Crowder</td>\n",
       "      <td>915243</td>\n",
       "    </tr>\n",
       "    <tr>\n",
       "      <th>385</th>\n",
       "      <td>James Young</td>\n",
       "      <td>19</td>\n",
       "      <td>BOS</td>\n",
       "      <td>31</td>\n",
       "      <td>42</td>\n",
       "      <td>13</td>\n",
       "      <td>8</td>\n",
       "      <td>2</td>\n",
       "      <td>5</td>\n",
       "      <td>105</td>\n",
       "      <td>Patrick Beverley</td>\n",
       "      <td>915243</td>\n",
       "    </tr>\n",
       "    <tr>\n",
       "      <th>395</th>\n",
       "      <td>Archie Goodwin</td>\n",
       "      <td>20</td>\n",
       "      <td>PHO</td>\n",
       "      <td>41</td>\n",
       "      <td>74</td>\n",
       "      <td>44</td>\n",
       "      <td>18</td>\n",
       "      <td>9</td>\n",
       "      <td>48</td>\n",
       "      <td>231</td>\n",
       "      <td>Malcolm Lee</td>\n",
       "      <td>915243</td>\n",
       "    </tr>\n",
       "    <tr>\n",
       "      <th>406</th>\n",
       "      <td>Spencer Dinwiddie</td>\n",
       "      <td>21</td>\n",
       "      <td>DET</td>\n",
       "      <td>34</td>\n",
       "      <td>48</td>\n",
       "      <td>104</td>\n",
       "      <td>19</td>\n",
       "      <td>6</td>\n",
       "      <td>33</td>\n",
       "      <td>145</td>\n",
       "      <td>Justin Hamilton</td>\n",
       "      <td>816482</td>\n",
       "    </tr>\n",
       "    <tr>\n",
       "      <th>413</th>\n",
       "      <td>Glenn Robinson III</td>\n",
       "      <td>21</td>\n",
       "      <td>TOT</td>\n",
       "      <td>35</td>\n",
       "      <td>39</td>\n",
       "      <td>11</td>\n",
       "      <td>6</td>\n",
       "      <td>1</td>\n",
       "      <td>11</td>\n",
       "      <td>73</td>\n",
       "      <td>Ognjen Kuzmic</td>\n",
       "      <td>816482</td>\n",
       "    </tr>\n",
       "    <tr>\n",
       "      <th>424</th>\n",
       "      <td>Clint Capela</td>\n",
       "      <td>20</td>\n",
       "      <td>HOU</td>\n",
       "      <td>12</td>\n",
       "      <td>36</td>\n",
       "      <td>2</td>\n",
       "      <td>1</td>\n",
       "      <td>9</td>\n",
       "      <td>5</td>\n",
       "      <td>32</td>\n",
       "      <td>Jarnell Stokes</td>\n",
       "      <td>725000</td>\n",
       "    </tr>\n",
       "    <tr>\n",
       "      <th>451</th>\n",
       "      <td>Bruno Caboclo</td>\n",
       "      <td>19</td>\n",
       "      <td>TOR</td>\n",
       "      <td>8</td>\n",
       "      <td>2</td>\n",
       "      <td>0</td>\n",
       "      <td>0</td>\n",
       "      <td>1</td>\n",
       "      <td>4</td>\n",
       "      <td>10</td>\n",
       "      <td>Larry Drew</td>\n",
       "      <td>507336</td>\n",
       "    </tr>\n",
       "    <tr>\n",
       "      <th>457</th>\n",
       "      <td>Dante Exum</td>\n",
       "      <td>19</td>\n",
       "      <td>UTA</td>\n",
       "      <td>82</td>\n",
       "      <td>131</td>\n",
       "      <td>198</td>\n",
       "      <td>41</td>\n",
       "      <td>14</td>\n",
       "      <td>118</td>\n",
       "      <td>393</td>\n",
       "      <td>Reggie Williams</td>\n",
       "      <td>344036</td>\n",
       "    </tr>\n",
       "    <tr>\n",
       "      <th>462</th>\n",
       "      <td>Grant Jerrett</td>\n",
       "      <td>21</td>\n",
       "      <td>TOT</td>\n",
       "      <td>8</td>\n",
       "      <td>9</td>\n",
       "      <td>3</td>\n",
       "      <td>2</td>\n",
       "      <td>2</td>\n",
       "      <td>3</td>\n",
       "      <td>16</td>\n",
       "      <td>Elijah Millsap</td>\n",
       "      <td>241731</td>\n",
       "    </tr>\n",
       "    <tr>\n",
       "      <th>469</th>\n",
       "      <td>Julius Randle</td>\n",
       "      <td>20</td>\n",
       "      <td>LAL</td>\n",
       "      <td>1</td>\n",
       "      <td>0</td>\n",
       "      <td>0</td>\n",
       "      <td>0</td>\n",
       "      <td>0</td>\n",
       "      <td>1</td>\n",
       "      <td>2</td>\n",
       "      <td>Jordan Hamilton</td>\n",
       "      <td>150591</td>\n",
       "    </tr>\n",
       "    <tr>\n",
       "      <th>479</th>\n",
       "      <td>Tyler Ennis</td>\n",
       "      <td>20</td>\n",
       "      <td>TOT</td>\n",
       "      <td>33</td>\n",
       "      <td>35</td>\n",
       "      <td>73</td>\n",
       "      <td>18</td>\n",
       "      <td>5</td>\n",
       "      <td>42</td>\n",
       "      <td>121</td>\n",
       "      <td>Elliot Williams</td>\n",
       "      <td>57711</td>\n",
       "    </tr>\n",
       "    <tr>\n",
       "      <th>486</th>\n",
       "      <td>Johnny O'Bryant</td>\n",
       "      <td>21</td>\n",
       "      <td>MIL</td>\n",
       "      <td>34</td>\n",
       "      <td>64</td>\n",
       "      <td>17</td>\n",
       "      <td>5</td>\n",
       "      <td>4</td>\n",
       "      <td>25</td>\n",
       "      <td>100</td>\n",
       "      <td>Jerrelle Benimon</td>\n",
       "      <td>35000</td>\n",
       "    </tr>\n",
       "    <tr>\n",
       "      <th>489</th>\n",
       "      <td>Gary Harris</td>\n",
       "      <td>20</td>\n",
       "      <td>DEN</td>\n",
       "      <td>55</td>\n",
       "      <td>64</td>\n",
       "      <td>29</td>\n",
       "      <td>39</td>\n",
       "      <td>7</td>\n",
       "      <td>38</td>\n",
       "      <td>188</td>\n",
       "      <td>David Wear</td>\n",
       "      <td>29843</td>\n",
       "    </tr>\n",
       "    <tr>\n",
       "      <th>490</th>\n",
       "      <td>Zach LaVine</td>\n",
       "      <td>19</td>\n",
       "      <td>MIN</td>\n",
       "      <td>77</td>\n",
       "      <td>214</td>\n",
       "      <td>276</td>\n",
       "      <td>54</td>\n",
       "      <td>10</td>\n",
       "      <td>193</td>\n",
       "      <td>778</td>\n",
       "      <td>Andre Dawkins</td>\n",
       "      <td>29843</td>\n",
       "    </tr>\n",
       "  </tbody>\n",
       "</table>\n",
       "</div>"
      ],
      "text/plain": [
       "                         Name  Age Team  Games  Rebounds  Assists  Steals  \\\n",
       "3               Anthony Davis   21  NOP     68       696      149     100   \n",
       "29             Andre Drummond   21  DET     82      1104       55      73   \n",
       "52      Giannis Antetokounmpo   20  MIL     81       542      207      73   \n",
       "100              Steven Adams   21  OKC     70       523       66      38   \n",
       "112              Nerlens Noel   20  PHI     75       611      128     133   \n",
       "123    Michael Kidd-Gilchrist   21  CHO     55       416       77      30   \n",
       "125              Bradley Beal   21  WAS     63       241      194      76   \n",
       "153                  Alex Len   21  PHO     69       454       32      34   \n",
       "172              Marcus Smart   20  BOS     67       222      208      99   \n",
       "175  Kentavious Caldwell-Pope   21  DET     82       255      109      93   \n",
       "185               Otto Porter   21  WAS     74       221       65      44   \n",
       "194              Ben McLemore   21  SAC     82       241      140      77   \n",
       "196           Dennis Schroder   21  ATL     77       164      317      49   \n",
       "208             Elfrid Payton   20  ORL     82       349      533     142   \n",
       "226            Andrew Wiggins   19  MIN     82       374      170      86   \n",
       "258              Jusuf Nurkic   20  DEN     62       382       50      52   \n",
       "289             Jabari Parker   19  MIL     25       138       42      31   \n",
       "308               T.J. Warren   21  PHO     40        85       25      18   \n",
       "311              Aaron Gordon   19  ORL     47       169       33      21   \n",
       "331            Sergey Karasev   21  BRK     33        66       46      23   \n",
       "336            K.J. McDaniels   21  TOT     62       200       72      44   \n",
       "340            JaKarr Sampson   21  PHI     74       163       77      38   \n",
       "342              Jerami Grant   20  PHI     65       198       79      40   \n",
       "349              Nik Stauskas   21  SAC     73        88       67      20   \n",
       "350            Jarnell Stokes   21  MEM     19        34        4       5   \n",
       "352               Noah Vonleh   19  CHO     25        86        4       4   \n",
       "354              Jordan Adams   20  MEM     30        28       16      16   \n",
       "367             Kyle Anderson   21  SAS     33        72       28      15   \n",
       "368           Anthony Bennett   21  MIN     57       216       48      27   \n",
       "375          Maurice Harkless   21  ORL     45       106       25      32   \n",
       "384               Tony Wroten   21  PHI     30        86      157      48   \n",
       "385               James Young   19  BOS     31        42       13       8   \n",
       "395            Archie Goodwin   20  PHO     41        74       44      18   \n",
       "406         Spencer Dinwiddie   21  DET     34        48      104      19   \n",
       "413        Glenn Robinson III   21  TOT     35        39       11       6   \n",
       "424              Clint Capela   20  HOU     12        36        2       1   \n",
       "451             Bruno Caboclo   19  TOR      8         2        0       0   \n",
       "457                Dante Exum   19  UTA     82       131      198      41   \n",
       "462             Grant Jerrett   21  TOT      8         9        3       2   \n",
       "469             Julius Randle   20  LAL      1         0        0       0   \n",
       "479               Tyler Ennis   20  TOT     33        35       73      18   \n",
       "486           Johnny O'Bryant   21  MIL     34        64       17       5   \n",
       "489               Gary Harris   20  DEN     55        64       29      39   \n",
       "490               Zach LaVine   19  MIN     77       214      276      54   \n",
       "\n",
       "     Blocks  Turnovers  Points                PlayerName    Salary  \n",
       "3       200         95    1656           Carmelo Anthony  22458401  \n",
       "29      153        120    1130          DeMarcus Cousins  14746000  \n",
       "52       85        173    1030            DeAndre Jordan  11440124  \n",
       "100      86         99     537               J.J. Redick   6792500  \n",
       "112     142        146     744               Kyle Korver   6253521  \n",
       "123      38         63     598               Enes Kanter   5694674  \n",
       "125      18        123     962           Anthony Bennett   5563920  \n",
       "153     105         74     432            Timofey Mozgov   4650000  \n",
       "172      18         90     523              Vince Carter   3911981  \n",
       "175      18         94    1043           Bismack Biyombo   3873398  \n",
       "185      30         52     445            Brandon Knight   3553917  \n",
       "194      19        138     996          Tyler Hansbrough   3326235  \n",
       "196       4        150     768              Nerlens Noel   3315120  \n",
       "208      20        203     731            Chris Copeland   3135000  \n",
       "226      50        177    1387  Kentavious Caldwell-Pope   2772480  \n",
       "258      68         86     426                Beno Udrih   2077000  \n",
       "289       5         47     308                Ryan Kelly   1650000  \n",
       "308       9         27     245             Jannero Pargo   1448490  \n",
       "311      22         38     243           Jared Sullinger   1424520  \n",
       "331       1         24     153                Pero Antic   1250000  \n",
       "336      70        105     487               Tony Wroten   1210080  \n",
       "340      26         76     386            Andre Roberson   1160880  \n",
       "342      68         85     411            Cartier Martin   1145686  \n",
       "349      17         40     319               C.J. Wilcox   1109760  \n",
       "350       5          7      57           Al-Farouq Aminu   1100602  \n",
       "352       9         11      83             Kyle Anderson   1093680  \n",
       "354       7         14      94              Xavier Henry   1082000  \n",
       "367       7         10      74            Garrett Temple    981084  \n",
       "368      16         36     298               Jeff Adrien    981084  \n",
       "375       9         27     158               Joey Dorsey    948163  \n",
       "384       8        113     507               Jae Crowder    915243  \n",
       "385       2          5     105          Patrick Beverley    915243  \n",
       "395       9         48     231               Malcolm Lee    915243  \n",
       "406       6         33     145           Justin Hamilton    816482  \n",
       "413       1         11      73             Ognjen Kuzmic    816482  \n",
       "424       9          5      32            Jarnell Stokes    725000  \n",
       "451       1          4      10                Larry Drew    507336  \n",
       "457      14        118     393           Reggie Williams    344036  \n",
       "462       2          3      16            Elijah Millsap    241731  \n",
       "469       0          1       2           Jordan Hamilton    150591  \n",
       "479       5         42     121           Elliot Williams     57711  \n",
       "486       4         25     100          Jerrelle Benimon     35000  \n",
       "489       7         38     188                David Wear     29843  \n",
       "490      10        193     778             Andre Dawkins     29843  "
      ]
     },
     "execution_count": 99,
     "metadata": {},
     "output_type": "execute_result"
    }
   ],
   "source": [
    "### You code here:\n",
    "import pandas as pd\n",
    "f_data=pd.read_csv('player_data.csv')\n",
    "f=pd.read_csv('salary_data.csv')\n",
    "full_data=f_data.join(f)\n",
    "# print(full_data)\n",
    "# full_data = salary_data.join(\"PlayerName\", player_data, \"Name\")\n",
    "convenience_sample = full_data.loc[full_data['Age']<22]\n",
    "convenience_sample\n",
    "\n",
    "\n",
    "\n"
   ]
  },
  {
   "cell_type": "code",
   "execution_count": 101,
   "metadata": {},
   "outputs": [
    {
     "data": {
      "text/plain": [
       "Name                      Age  Team  Games  Rebounds  Assists  Steals  Blocks  Turnovers  Points  PlayerName                Salary  \n",
       "Aaron Gordon              19   ORL   47     169       33       21      22      38         243     Jared Sullinger           1424520     False\n",
       "Alex Len                  21   PHO   69     454       32       34      105     74         432     Timofey Mozgov            4650000     False\n",
       "Jordan Adams              20   MEM   30     28        16       16      7       14         94      Xavier Henry              1082000     False\n",
       "Julius Randle             20   LAL   1      0         0        0       0       1          2       Jordan Hamilton           150591      False\n",
       "Jusuf Nurkic              20   DEN   62     382       50       52      68      86         426     Beno Udrih                2077000     False\n",
       "K.J. McDaniels            21   TOT   62     200       72       44      70      105        487     Tony Wroten               1210080     False\n",
       "Kentavious Caldwell-Pope  21   DET   82     255       109      93      18      94         1043    Bismack Biyombo           3873398     False\n",
       "Kyle Anderson             21   SAS   33     72        28       15      7       10         74      Garrett Temple            981084      False\n",
       "Marcus Smart              20   BOS   67     222       208      99      18      90         523     Vince Carter              3911981     False\n",
       "Maurice Harkless          21   ORL   45     106       25       32      9       27         158     Joey Dorsey               948163      False\n",
       "Michael Kidd-Gilchrist    21   CHO   55     416       77       30      38      63         598     Enes Kanter               5694674     False\n",
       "Nerlens Noel              20   PHI   75     611       128      133     142     146        744     Kyle Korver               6253521     False\n",
       "Nik Stauskas              21   SAC   73     88        67       20      17      40         319     C.J. Wilcox               1109760     False\n",
       "Noah Vonleh               19   CHO   25     86        4        4       9       11         83      Kyle Anderson             1093680     False\n",
       "Otto Porter               21   WAS   74     221       65       44      30      52         445     Brandon Knight            3553917     False\n",
       "Sergey Karasev            21   BRK   33     66        46       23      1       24         153     Pero Antic                1250000     False\n",
       "Spencer Dinwiddie         21   DET   34     48        104      19      6       33         145     Justin Hamilton           816482      False\n",
       "Steven Adams              21   OKC   70     523       66       38      86      99         537     J.J. Redick               6792500     False\n",
       "T.J. Warren               21   PHO   40     85        25       18      9       27         245     Jannero Pargo             1448490     False\n",
       "Tony Wroten               21   PHI   30     86        157      48      8       113        507     Jae Crowder               915243      False\n",
       "Tyler Ennis               20   TOT   33     35        73       18      5       42         121     Elliot Williams           57711       False\n",
       "Johnny O'Bryant           21   MIL   34     64        17       5       4       25         100     Jerrelle Benimon          35000       False\n",
       "Jerami Grant              20   PHI   65     198       79       40      68      85         411     Cartier Martin            1145686     False\n",
       "Jarnell Stokes            21   MEM   19     34        4        5       5       7          57      Al-Farouq Aminu           1100602     False\n",
       "Clint Capela              20   HOU   12     36        2        1       9       5          32      Jarnell Stokes            725000      False\n",
       "Andre Drummond            21   DET   82     1104      55       73      153     120        1130    DeMarcus Cousins          14746000    False\n",
       "Andrew Wiggins            19   MIN   82     374       170      86      50      177        1387    Kentavious Caldwell-Pope  2772480     False\n",
       "Anthony Bennett           21   MIN   57     216       48       27      16      36         298     Jeff Adrien               981084      False\n",
       "Anthony Davis             21   NOP   68     696       149      100     200     95         1656    Carmelo Anthony           22458401    False\n",
       "Archie Goodwin            20   PHO   41     74        44       18      9       48         231     Malcolm Lee               915243      False\n",
       "Ben McLemore              21   SAC   82     241       140      77      19      138        996     Tyler Hansbrough          3326235     False\n",
       "Bradley Beal              21   WAS   63     241       194      76      18      123        962     Anthony Bennett           5563920     False\n",
       "Bruno Caboclo             19   TOR   8      2         0        0       1       4          10      Larry Drew                507336      False\n",
       "Dante Exum                19   UTA   82     131       198      41      14      118        393     Reggie Williams           344036      False\n",
       "James Young               19   BOS   31     42        13       8       2       5          105     Patrick Beverley          915243      False\n",
       "Dennis Schroder           21   ATL   77     164       317      49      4       150        768     Nerlens Noel              3315120     False\n",
       "Elfrid Payton             20   ORL   82     349       533      142     20      203        731     Chris Copeland            3135000     False\n",
       "Gary Harris               20   DEN   55     64        29       39      7       38         188     David Wear                29843       False\n",
       "Giannis Antetokounmpo     20   MIL   81     542       207      73      85      173        1030    DeAndre Jordan            11440124    False\n",
       "Glenn Robinson III        21   TOT   35     39        11       6       1       11         73      Ognjen Kuzmic             816482      False\n",
       "Grant Jerrett             21   TOT   8      9         3        2       2       3          16      Elijah Millsap            241731      False\n",
       "JaKarr Sampson            21   PHI   74     163       77       38      26      76         386     Andre Roberson            1160880     False\n",
       "Jabari Parker             19   MIL   25     138       42       31      5       47         308     Ryan Kelly                1650000     False\n",
       "Zach LaVine               19   MIN   77     214       276      54      10      193        778     Andre Dawkins             29843       False\n",
       "dtype: bool"
      ]
     },
     "execution_count": 101,
     "metadata": {},
     "output_type": "execute_result"
    }
   ],
   "source": [
    "# TEST\n",
    "convenience_sample.value_counts() == 11\n",
    "\n"
   ]
  },
  {
   "cell_type": "code",
   "execution_count": 102,
   "metadata": {},
   "outputs": [
    {
     "data": {
      "text/plain": [
       "Name                      Age  Team  Games  Rebounds  Assists  Steals  Blocks  Turnovers  Points  PlayerName                Salary  \n",
       "Aaron Gordon              19   ORL   47     169       33       21      22      38         243     Jared Sullinger           1424520     False\n",
       "Alex Len                  21   PHO   69     454       32       34      105     74         432     Timofey Mozgov            4650000     False\n",
       "Jordan Adams              20   MEM   30     28        16       16      7       14         94      Xavier Henry              1082000     False\n",
       "Julius Randle             20   LAL   1      0         0        0       0       1          2       Jordan Hamilton           150591      False\n",
       "Jusuf Nurkic              20   DEN   62     382       50       52      68      86         426     Beno Udrih                2077000     False\n",
       "K.J. McDaniels            21   TOT   62     200       72       44      70      105        487     Tony Wroten               1210080     False\n",
       "Kentavious Caldwell-Pope  21   DET   82     255       109      93      18      94         1043    Bismack Biyombo           3873398     False\n",
       "Kyle Anderson             21   SAS   33     72        28       15      7       10         74      Garrett Temple            981084      False\n",
       "Marcus Smart              20   BOS   67     222       208      99      18      90         523     Vince Carter              3911981     False\n",
       "Maurice Harkless          21   ORL   45     106       25       32      9       27         158     Joey Dorsey               948163      False\n",
       "Michael Kidd-Gilchrist    21   CHO   55     416       77       30      38      63         598     Enes Kanter               5694674     False\n",
       "Nerlens Noel              20   PHI   75     611       128      133     142     146        744     Kyle Korver               6253521     False\n",
       "Nik Stauskas              21   SAC   73     88        67       20      17      40         319     C.J. Wilcox               1109760     False\n",
       "Noah Vonleh               19   CHO   25     86        4        4       9       11         83      Kyle Anderson             1093680     False\n",
       "Otto Porter               21   WAS   74     221       65       44      30      52         445     Brandon Knight            3553917     False\n",
       "Sergey Karasev            21   BRK   33     66        46       23      1       24         153     Pero Antic                1250000     False\n",
       "Spencer Dinwiddie         21   DET   34     48        104      19      6       33         145     Justin Hamilton           816482      False\n",
       "Steven Adams              21   OKC   70     523       66       38      86      99         537     J.J. Redick               6792500     False\n",
       "T.J. Warren               21   PHO   40     85        25       18      9       27         245     Jannero Pargo             1448490     False\n",
       "Tony Wroten               21   PHI   30     86        157      48      8       113        507     Jae Crowder               915243      False\n",
       "Tyler Ennis               20   TOT   33     35        73       18      5       42         121     Elliot Williams           57711       False\n",
       "Johnny O'Bryant           21   MIL   34     64        17       5       4       25         100     Jerrelle Benimon          35000       False\n",
       "Jerami Grant              20   PHI   65     198       79       40      68      85         411     Cartier Martin            1145686     False\n",
       "Jarnell Stokes            21   MEM   19     34        4        5       5       7          57      Al-Farouq Aminu           1100602     False\n",
       "Clint Capela              20   HOU   12     36        2        1       9       5          32      Jarnell Stokes            725000      False\n",
       "Andre Drummond            21   DET   82     1104      55       73      153     120        1130    DeMarcus Cousins          14746000    False\n",
       "Andrew Wiggins            19   MIN   82     374       170      86      50      177        1387    Kentavious Caldwell-Pope  2772480     False\n",
       "Anthony Bennett           21   MIN   57     216       48       27      16      36         298     Jeff Adrien               981084      False\n",
       "Anthony Davis             21   NOP   68     696       149      100     200     95         1656    Carmelo Anthony           22458401    False\n",
       "Archie Goodwin            20   PHO   41     74        44       18      9       48         231     Malcolm Lee               915243      False\n",
       "Ben McLemore              21   SAC   82     241       140      77      19      138        996     Tyler Hansbrough          3326235     False\n",
       "Bradley Beal              21   WAS   63     241       194      76      18      123        962     Anthony Bennett           5563920     False\n",
       "Bruno Caboclo             19   TOR   8      2         0        0       1       4          10      Larry Drew                507336      False\n",
       "Dante Exum                19   UTA   82     131       198      41      14      118        393     Reggie Williams           344036      False\n",
       "James Young               19   BOS   31     42        13       8       2       5          105     Patrick Beverley          915243      False\n",
       "Dennis Schroder           21   ATL   77     164       317      49      4       150        768     Nerlens Noel              3315120     False\n",
       "Elfrid Payton             20   ORL   82     349       533      142     20      203        731     Chris Copeland            3135000     False\n",
       "Gary Harris               20   DEN   55     64        29       39      7       38         188     David Wear                29843       False\n",
       "Giannis Antetokounmpo     20   MIL   81     542       207      73      85      173        1030    DeAndre Jordan            11440124    False\n",
       "Glenn Robinson III        21   TOT   35     39        11       6       1       11         73      Ognjen Kuzmic             816482      False\n",
       "Grant Jerrett             21   TOT   8      9         3        2       2       3          16      Elijah Millsap            241731      False\n",
       "JaKarr Sampson            21   PHI   74     163       77       38      26      76         386     Andre Roberson            1160880     False\n",
       "Jabari Parker             19   MIL   25     138       42       31      5       47         308     Ryan Kelly                1650000     False\n",
       "Zach LaVine               19   MIN   77     214       276      54      10      193        778     Andre Dawkins             29843       False\n",
       "dtype: bool"
      ]
     },
     "execution_count": 102,
     "metadata": {},
     "output_type": "execute_result"
    }
   ],
   "source": [
    "# TEST\n",
    "convenience_sample.value_counts() == 44\n",
    "\n"
   ]
  },
  {
   "cell_type": "markdown",
   "metadata": {},
   "source": [
    "### Question 3 (10 points) \n",
    "\n",
    "Assign convenience_stats to an array of the average age and average salary of your convenience sample, using the compute_statistics function. Since they're computed on a sample, these are called sample averages."
   ]
  },
  {
   "cell_type": "code",
   "execution_count": 103,
   "metadata": {},
   "outputs": [
    {
     "data": {
      "text/plain": [
       "array([  2.03636364e+01,   4.26977577e+06])"
      ]
     },
     "execution_count": 103,
     "metadata": {},
     "output_type": "execute_result"
    }
   ],
   "source": [
    "mean_age=convenience_sample['Age'].mean()\n",
    "full_data2=pd.read_csv('salary_data.csv')\n",
    "convenience_sample2 = full_data2\n",
    "mean_salary=convenience_sample2['Salary'].mean()\n",
    "\n",
    "convenience_stats = np.array([mean_age,mean_salary])\n",
    "convenience_stats\n",
    "\n"
   ]
  },
  {
   "cell_type": "code",
   "execution_count": 104,
   "metadata": {},
   "outputs": [
    {
     "data": {
      "text/plain": [
       "True"
      ]
     },
     "execution_count": 104,
     "metadata": {},
     "output_type": "execute_result"
    }
   ],
   "source": [
    "# TEST\n",
    "len(convenience_stats) == 2\n",
    "\n"
   ]
  },
  {
   "cell_type": "code",
   "execution_count": 105,
   "metadata": {},
   "outputs": [
    {
     "data": {
      "text/plain": [
       "True"
      ]
     },
     "execution_count": 105,
     "metadata": {},
     "output_type": "execute_result"
    }
   ],
   "source": [
    "# TEST \n",
    "round(float(convenience_stats[0]), 2) == 20.36\n",
    "\n"
   ]
  },
  {
   "cell_type": "code",
   "execution_count": 106,
   "metadata": {},
   "outputs": [
    {
     "data": {
      "text/plain": [
       "False"
      ]
     },
     "execution_count": 106,
     "metadata": {},
     "output_type": "execute_result"
    }
   ],
   "source": [
    "# TEST\n",
    "round(float(convenience_stats[1]), 2) == 2383533.82\n",
    "\n"
   ]
  },
  {
   "cell_type": "markdown",
   "metadata": {},
   "source": [
    "Next, we'll compare the convenience sample salaries with the full data salaries in a single histogram. To do that, we'll need to use the bin_column option of the hist method, which indicates that all columns are counts of the bins in a particular column. The following cell does not require any changes; just run it."
   ]
  },
  {
   "cell_type": "code",
   "execution_count": 136,
   "metadata": {},
   "outputs": [
    {
     "ename": "AttributeError",
     "evalue": "'DataFrame' object has no attribute 'column'",
     "output_type": "error",
     "traceback": [
      "\u001b[1;31m---------------------------------------------------------------------------\u001b[0m",
      "\u001b[1;31mAttributeError\u001b[0m                            Traceback (most recent call last)",
      "Input \u001b[1;32mIn [136]\u001b[0m, in \u001b[0;36m<cell line: 17>\u001b[1;34m()\u001b[0m\n\u001b[0;32m     13\u001b[0m     first_binned\u001b[38;5;241m.\u001b[39mjoin(\u001b[38;5;124m'\u001b[39m\u001b[38;5;124mbin\u001b[39m\u001b[38;5;124m'\u001b[39m, second_binned)\u001b[38;5;241m.\u001b[39mhist(bin_column\u001b[38;5;241m=\u001b[39m\u001b[38;5;124m'\u001b[39m\u001b[38;5;124mbin\u001b[39m\u001b[38;5;124m'\u001b[39m, unit\u001b[38;5;241m=\u001b[39m\u001b[38;5;124m'\u001b[39m\u001b[38;5;124mmillion dollars\u001b[39m\u001b[38;5;124m'\u001b[39m)\n\u001b[0;32m     14\u001b[0m     plt\u001b[38;5;241m.\u001b[39mtitle(\u001b[38;5;124m'\u001b[39m\u001b[38;5;124mSalaries for all players and convenience sample\u001b[39m\u001b[38;5;124m'\u001b[39m)\n\u001b[1;32m---> 17\u001b[0m \u001b[43mcompare_salaries\u001b[49m\u001b[43m(\u001b[49m\u001b[43mfull_data\u001b[49m\u001b[43m,\u001b[49m\u001b[43m \u001b[49m\u001b[43mconvenience_sample\u001b[49m\u001b[43m,\u001b[49m\u001b[43m \u001b[49m\u001b[38;5;124;43m'\u001b[39;49m\u001b[38;5;124;43mAll Players\u001b[39;49m\u001b[38;5;124;43m'\u001b[39;49m\u001b[43m,\u001b[49m\u001b[43m \u001b[49m\u001b[38;5;124;43m'\u001b[39;49m\u001b[38;5;124;43mConvenience Sample\u001b[39;49m\u001b[38;5;124;43m'\u001b[39;49m\u001b[43m)\u001b[49m\n",
      "Input \u001b[1;32mIn [136]\u001b[0m, in \u001b[0;36mcompare_salaries\u001b[1;34m(first, second, first_title, second_title)\u001b[0m\n\u001b[0;32m      4\u001b[0m \u001b[38;5;124;03m\"\"\"Compare the salaries in two tables.\"\"\"\u001b[39;00m\n\u001b[0;32m      5\u001b[0m first_salary_in_millions \u001b[38;5;241m=\u001b[39m first\u001b[38;5;241m.\u001b[39mcolumn(\u001b[38;5;124m'\u001b[39m\u001b[38;5;124mSalary\u001b[39m\u001b[38;5;124m'\u001b[39m)\u001b[38;5;241m/\u001b[39m\u001b[38;5;241m1000000\u001b[39m\n\u001b[1;32m----> 6\u001b[0m second_salary_in_millions \u001b[38;5;241m=\u001b[39m \u001b[43msecond\u001b[49m\u001b[38;5;241;43m.\u001b[39;49m\u001b[43mcolumn\u001b[49m(\u001b[38;5;124m'\u001b[39m\u001b[38;5;124mSalary\u001b[39m\u001b[38;5;124m'\u001b[39m)\u001b[38;5;241m/\u001b[39m\u001b[38;5;241m1000000\u001b[39m\n\u001b[0;32m      7\u001b[0m first_tbl_millions \u001b[38;5;241m=\u001b[39m first\u001b[38;5;241m.\u001b[39mdrop(\u001b[38;5;124m'\u001b[39m\u001b[38;5;124mSalary\u001b[39m\u001b[38;5;124m'\u001b[39m)\u001b[38;5;241m.\u001b[39mwith_column(\u001b[38;5;124m'\u001b[39m\u001b[38;5;124mSalary\u001b[39m\u001b[38;5;124m'\u001b[39m, first_salary_in_millions)\n\u001b[0;32m      8\u001b[0m second_tbl_millions \u001b[38;5;241m=\u001b[39m second\u001b[38;5;241m.\u001b[39mdrop(\u001b[38;5;124m'\u001b[39m\u001b[38;5;124mSalary\u001b[39m\u001b[38;5;124m'\u001b[39m)\u001b[38;5;241m.\u001b[39mwith_column(\u001b[38;5;124m'\u001b[39m\u001b[38;5;124mSalary\u001b[39m\u001b[38;5;124m'\u001b[39m, second_salary_in_millions)\n",
      "File \u001b[1;32m~\\anaconda3\\lib\\site-packages\\pandas\\core\\generic.py:5575\u001b[0m, in \u001b[0;36mNDFrame.__getattr__\u001b[1;34m(self, name)\u001b[0m\n\u001b[0;32m   5568\u001b[0m \u001b[38;5;28;01mif\u001b[39;00m (\n\u001b[0;32m   5569\u001b[0m     name \u001b[38;5;129;01mnot\u001b[39;00m \u001b[38;5;129;01min\u001b[39;00m \u001b[38;5;28mself\u001b[39m\u001b[38;5;241m.\u001b[39m_internal_names_set\n\u001b[0;32m   5570\u001b[0m     \u001b[38;5;129;01mand\u001b[39;00m name \u001b[38;5;129;01mnot\u001b[39;00m \u001b[38;5;129;01min\u001b[39;00m \u001b[38;5;28mself\u001b[39m\u001b[38;5;241m.\u001b[39m_metadata\n\u001b[0;32m   5571\u001b[0m     \u001b[38;5;129;01mand\u001b[39;00m name \u001b[38;5;129;01mnot\u001b[39;00m \u001b[38;5;129;01min\u001b[39;00m \u001b[38;5;28mself\u001b[39m\u001b[38;5;241m.\u001b[39m_accessors\n\u001b[0;32m   5572\u001b[0m     \u001b[38;5;129;01mand\u001b[39;00m \u001b[38;5;28mself\u001b[39m\u001b[38;5;241m.\u001b[39m_info_axis\u001b[38;5;241m.\u001b[39m_can_hold_identifiers_and_holds_name(name)\n\u001b[0;32m   5573\u001b[0m ):\n\u001b[0;32m   5574\u001b[0m     \u001b[38;5;28;01mreturn\u001b[39;00m \u001b[38;5;28mself\u001b[39m[name]\n\u001b[1;32m-> 5575\u001b[0m \u001b[38;5;28;01mreturn\u001b[39;00m \u001b[38;5;28;43mobject\u001b[39;49m\u001b[38;5;241;43m.\u001b[39;49m\u001b[38;5;21;43m__getattribute__\u001b[39;49m\u001b[43m(\u001b[49m\u001b[38;5;28;43mself\u001b[39;49m\u001b[43m,\u001b[49m\u001b[43m \u001b[49m\u001b[43mname\u001b[49m\u001b[43m)\u001b[49m\n",
      "\u001b[1;31mAttributeError\u001b[0m: 'DataFrame' object has no attribute 'column'"
     ]
    }
   ],
   "source": [
    "def compare_salaries(first, second, first_title, second_title):\n",
    "#     print(first)\n",
    "#     print(second)\n",
    "    \"\"\"Compare the salaries in two tables.\"\"\"\n",
    "    first_salary_in_millions = first.column('Salary')/1000000\n",
    "    second_salary_in_millions = second.column('Salary')/1000000\n",
    "    first_tbl_millions = first.drop('Salary').with_column('Salary', first_salary_in_millions)\n",
    "    second_tbl_millions = second.drop('Salary').with_column('Salary', second_salary_in_millions)\n",
    "    max_salary = max(np.append(first_tbl_millions.column('Salary'), second_tbl_millions.column('Salary')))\n",
    "    bins = np.arange(0, max_salary+1, 1)\n",
    "    first_binned = first_tbl_millions.bin('Salary', bins=bins).relabeled(1, first_title)\n",
    "    second_binned = second_tbl_millions.bin('Salary', bins=bins).relabeled(1, second_title)\n",
    "    first_binned.join('bin', second_binned).hist(bin_column='bin', unit='million dollars')\n",
    "    plt.title('Salaries for all players and convenience sample')\n",
    "\n",
    "\n",
    "compare_salaries(full_data, convenience_sample, 'All Players', 'Convenience Sample')"
   ]
  },
  {
   "cell_type": "markdown",
   "metadata": {},
   "source": [
    "### Question 4 (10 points) \n",
    "Does the convenience sample give us an accurate picture of the salary of the full population? Would you expect it to, in general? Before you move on, write a short answer in English below. You can refer to the statistics calculated above or perform your own analysis."
   ]
  },
  {
   "cell_type": "code",
   "execution_count": 2,
   "metadata": {},
   "outputs": [
    {
     "data": {
      "text/plain": [
       "'\\nAnswer: \\n\\n\\n\\n'"
      ]
     },
     "execution_count": 2,
     "metadata": {},
     "output_type": "execute_result"
    }
   ],
   "source": [
    "### Please write your answer here (no code required)\n",
    "# Results are calaucted manually as tried different approach to compare the salaries.\n",
    "\"\"\"\n",
    "Answer: \n",
    "The Convience sample gave us not so accurate picture of slaary of full population,Based on the stats caluclated from sample we\n",
    "found that few showed accurate results as of sample.The mean calaucted was biased to lower side of sample than covering the \n",
    "weighed average of the samples.\n",
    "\n",
    "\"\"\""
   ]
  },
  {
   "cell_type": "markdown",
   "metadata": {},
   "source": [
    "### Simple random sampling\n",
    "A more justifiable approach is to sample uniformly at random from the players.  In a **simple random sample (SRS) without replacement**, we ensure that each player is selected at most once. Imagine writing down each player's name on a card, putting the cards in an box, and shuffling the box.  Then, pull out cards one by one and set them aside, stopping when the specified sample size is reached."
   ]
  },
  {
   "cell_type": "markdown",
   "metadata": {},
   "source": [
    "### Producing simple random samples\n",
    "Sometimes, it’s useful to take random samples even when we have the data for the whole population. It helps us understand sampling accuracy.\n",
    "\n",
    "### `sample`\n",
    "\n",
    "The table method `sample` produces a random sample from the table. By default, it draws at random **with replacement** from the rows of a table. It takes in the sample size as its argument and returns a **table** with only the rows that were selected. \n",
    "\n",
    "Run the cell below to see an example call to `sample()` with a sample size of 5, with replacement."
   ]
  },
  {
   "cell_type": "code",
   "execution_count": 119,
   "metadata": {},
   "outputs": [
    {
     "data": {
      "text/html": [
       "<table border=\"1\" class=\"dataframe\">\n",
       "    <thead>\n",
       "        <tr>\n",
       "            <th>PlayerName</th> <th>Salary</th>\n",
       "        </tr>\n",
       "    </thead>\n",
       "    <tbody>\n",
       "        <tr>\n",
       "            <td>Dante Exum    </td> <td>3615000</td>\n",
       "        </tr>\n",
       "        <tr>\n",
       "            <td>Evan Fournier </td> <td>1483920</td>\n",
       "        </tr>\n",
       "        <tr>\n",
       "            <td>Jusuf Nurkic  </td> <td>1762680</td>\n",
       "        </tr>\n",
       "        <tr>\n",
       "            <td>Landry Fields </td> <td>6250000</td>\n",
       "        </tr>\n",
       "        <tr>\n",
       "            <td>Kevin Seraphin</td> <td>3898692</td>\n",
       "        </tr>\n",
       "    </tbody>\n",
       "</table>"
      ],
      "text/plain": [
       "PlayerName     | Salary\n",
       "Dante Exum     | 3615000\n",
       "Evan Fournier  | 1483920\n",
       "Jusuf Nurkic   | 1762680\n",
       "Landry Fields  | 6250000\n",
       "Kevin Seraphin | 3898692"
      ]
     },
     "execution_count": 119,
     "metadata": {},
     "output_type": "execute_result"
    }
   ],
   "source": [
    "# Just run this cell\n",
    "\n",
    "salary_data.sample(5)"
   ]
  },
  {
   "cell_type": "markdown",
   "metadata": {},
   "source": [
    "The optional argument with_replacement=False can be passed through sample() to specify that the sample should be drawn without replacement.\n",
    "\n",
    "Run the cell below to see an example call to sample() with a sample size of 5, without replacement."
   ]
  },
  {
   "cell_type": "code",
   "execution_count": 120,
   "metadata": {},
   "outputs": [
    {
     "data": {
      "text/html": [
       "<table border=\"1\" class=\"dataframe\">\n",
       "    <thead>\n",
       "        <tr>\n",
       "            <th>PlayerName</th> <th>Salary</th>\n",
       "        </tr>\n",
       "    </thead>\n",
       "    <tbody>\n",
       "        <tr>\n",
       "            <td>Shannon Brown   </td> <td>1310286 </td>\n",
       "        </tr>\n",
       "        <tr>\n",
       "            <td>Jack Cooley     </td> <td>65000   </td>\n",
       "        </tr>\n",
       "        <tr>\n",
       "            <td>Kevin Durant    </td> <td>18995624</td>\n",
       "        </tr>\n",
       "        <tr>\n",
       "            <td>Jason Richardson</td> <td>6601125 </td>\n",
       "        </tr>\n",
       "        <tr>\n",
       "            <td>Carmelo Anthony </td> <td>22458401</td>\n",
       "        </tr>\n",
       "    </tbody>\n",
       "</table>"
      ],
      "text/plain": [
       "PlayerName       | Salary\n",
       "Shannon Brown    | 1310286\n",
       "Jack Cooley      | 65000\n",
       "Kevin Durant     | 18995624\n",
       "Jason Richardson | 6601125\n",
       "Carmelo Anthony  | 22458401"
      ]
     },
     "execution_count": 120,
     "metadata": {},
     "output_type": "execute_result"
    }
   ],
   "source": [
    "# Just run this cell\n",
    "\n",
    "salary_data.sample(5, with_replacement=False)"
   ]
  },
  {
   "cell_type": "markdown",
   "metadata": {},
   "source": [
    "### Question 5 (10 points) \n",
    "Produce a simple random sample of size 44 from `full_data`. Run your analysis on it again.  Run the cell a few times to see how the histograms and statistics change across different samples."
   ]
  },
  {
   "cell_type": "code",
   "execution_count": 153,
   "metadata": {},
   "outputs": [
    {
     "data": {
      "text/plain": [
       "array([  2.58181818e+01,   5.00297820e+06])"
      ]
     },
     "execution_count": 153,
     "metadata": {},
     "output_type": "execute_result"
    }
   ],
   "source": [
    "full_data2=pd.read_csv('full_data.csv')\n",
    "\n",
    "my_small_srswor_data = full_data2.sample(n=44)\n",
    "avg_age=my_small_srswor_data['Age'].mean()\n",
    "avg_sal=my_small_srswor_data['Salary'].mean()\n",
    "my_small_stats =np.array([avg_age,avg_sal])\n",
    "my_small_stats"
   ]
  },
  {
   "cell_type": "markdown",
   "metadata": {},
   "source": [
    "Before you move on, write a short answer for the following questions in English:\n",
    "\n",
    "(1) How much does the average age change across samples?\n",
    "\n",
    "(2) What about average salary?"
   ]
  },
  {
   "cell_type": "code",
   "execution_count": 141,
   "metadata": {},
   "outputs": [
    {
     "data": {
      "text/plain": [
       "'\\nAnswer: \\n\\n\\n'"
      ]
     },
     "execution_count": 141,
     "metadata": {},
     "output_type": "execute_result"
    }
   ],
   "source": [
    "### Please write your answer here (no code required)\n",
    "\"\"\"\n",
    "Answer: \n",
    "The avergae change chnage across the random sample is around plus or minus 0.1-0.2\n",
    "\n",
    "When tried on differnt samples generted from differnt executions,The mean was falling in betwwen 2.03 to 5.88\n",
    "\"\"\""
   ]
  },
  {
   "cell_type": "markdown",
   "metadata": {},
   "source": [
    "### Question 6 (15 points) - Optional/ Additional extra credit if you loose marks on above questions\n",
    "As in the previous question, analyze several simple random samples of size 100 from `full_data`.  "
   ]
  },
  {
   "cell_type": "code",
   "execution_count": 162,
   "metadata": {},
   "outputs": [
    {
     "data": {
      "text/plain": [
       "array([  2.58181818e+01,   5.00297820e+06])"
      ]
     },
     "execution_count": 162,
     "metadata": {},
     "output_type": "execute_result"
    }
   ],
   "source": [
    "my_large_srswor_data = full_data2.sample(n=100)\n",
    "avg_age=my_small_srswor_data['Age'].mean()\n",
    "avg_sal=my_small_srswor_data['Salary'].mean()\n",
    "my_large_stats = np.array([avg_age,avg_sal])\n",
    "my_large_stats"
   ]
  },
  {
   "cell_type": "code",
   "execution_count": 170,
   "metadata": {},
   "outputs": [
    {
     "data": {
      "text/plain": [
       "<AxesSubplot:>"
      ]
     },
     "execution_count": 170,
     "metadata": {},
     "output_type": "execute_result"
    },
    {
     "data": {
      "image/png": "[encoded data removed]",
      "text/plain": [
       "<Figure size 432x288 with 1 Axes>"
      ]
     },
     "metadata": {},
     "output_type": "display_data"
    }
   ],
   "source": [
    "my_small_srswor_data[\"Age\"].hist()\n"
   ]
  },
  {
   "cell_type": "code",
   "execution_count": 171,
   "metadata": {},
   "outputs": [
    {
     "data": {
      "text/plain": [
       "<AxesSubplot:>"
      ]
     },
     "execution_count": 171,
     "metadata": {},
     "output_type": "execute_result"
    },
    {
     "data": {
      "image/png": "[encoded data removed]",
      "text/plain": [
       "<Figure size 432x288 with 1 Axes>"
      ]
     },
     "metadata": {},
     "output_type": "display_data"
    }
   ],
   "source": [
    " my_small_srswor_data['Salary'].hist()\n"
   ]
  },
  {
   "cell_type": "code",
   "execution_count": 172,
   "metadata": {},
   "outputs": [
    {
     "data": {
      "text/plain": [
       "<AxesSubplot:>"
      ]
     },
     "execution_count": 172,
     "metadata": {},
     "output_type": "execute_result"
    },
    {
     "data": {
      "image/png": "[encoded data removed]",
      "text/plain": [
       "<Figure size 432x288 with 1 Axes>"
      ]
     },
     "metadata": {},
     "output_type": "display_data"
    }
   ],
   "source": [
    "my_large_srswor_data['Age'].hist()"
   ]
  },
  {
   "cell_type": "code",
   "execution_count": 173,
   "metadata": {},
   "outputs": [
    {
     "data": {
      "text/plain": [
       "<AxesSubplot:>"
      ]
     },
     "execution_count": 173,
     "metadata": {},
     "output_type": "execute_result"
    },
    {
     "data": {
      "image/png": "[encoded data removed]",
      "text/plain": [
       "<Figure size 432x288 with 1 Axes>"
      ]
     },
     "metadata": {},
     "output_type": "display_data"
    }
   ],
   "source": [
    "my_large_srswor_data['Salary'].hist()"
   ]
  },
  {
   "cell_type": "markdown",
   "metadata": {},
   "source": [
    "Answer the following questions in English:\n",
    "\n",
    "(1) Do the histogram shapes seem to change more or less across samples of 100 than across samples of size 44?\n",
    "\n",
    "(2) Are the sample averages and histograms closer to their true values/shape for age or for salary? What did you expect to see?"
   ]
  },
  {
   "cell_type": "code",
   "execution_count": 169,
   "metadata": {},
   "outputs": [
    {
     "data": {
      "text/plain": [
       "'\\nAnswer: \\n\\n\\n\\n'"
      ]
     },
     "execution_count": 169,
     "metadata": {},
     "output_type": "execute_result"
    }
   ],
   "source": [
    "### Please write your answer here (no code required)\n",
    "\n",
    "\"\"\"\n",
    "Answer: \n",
    "The shape of the hist remains mostly the same when plotted for sample 100 and sample 44 but the ranges differ slightly for each \n",
    "size of smapling\n",
    "\n",
    "The avergae calauclsted were a little closer to the actual or true value for age and little more aligned towards closer value is observed \n",
    "in case of slaary.Have expected much more accurate results than the one caluclated.\n",
    "\n",
    "\n",
    "\n",
    "\"\"\""
   ]
  },
  {
   "cell_type": "code",
   "execution_count": null,
   "metadata": {},
   "outputs": [],
   "source": []
  }
 ],
 "metadata": {
  "kernelspec": {
   "display_name": "Python 3 (ipykernel)",
   "language": "python",
   "name": "python3"
  },
  "language_info": {
   "codemirror_mode": {
    "name": "ipython",
    "version": 3
   },
   "file_extension": ".py",
   "mimetype": "text/x-python",
   "name": "python",
   "nbconvert_exporter": "python",
   "pygments_lexer": "ipython3",
   "version": "3.9.12"
  }
 },
 "nbformat": 4,
 "nbformat_minor": 4
}
