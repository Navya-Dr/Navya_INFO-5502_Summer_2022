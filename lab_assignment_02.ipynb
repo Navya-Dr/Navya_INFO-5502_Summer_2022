{
 "cells": [
  {
   "cell_type": "markdown",
   "metadata": {
    "colab_type": "text",
    "id": "Ryk8D1Q4Wsrp"
   },
   "source": [
    "# **The second Lab-assignment (07/19/2022 11:59'AM' - 07/22/2022 11:59PM, 50 points in total)**"
   ]
  },
  {
   "cell_type": "markdown",
   "metadata": {
    "colab_type": "text",
    "id": "90_NR8c5XGWc"
   },
   "source": [
    "# Question 1\n",
    "\n",
    "(5 points). Write a Python program to generate 12 random numbers between 1 and 100. Sort the list of numbers in ascending order and print it out. Sort the list of numbers in descending order and print it out. Calculate the average for the group and print it out."
   ]
  },
  {
   "cell_type": "code",
   "execution_count": 149,
   "metadata": {
    "colab": {},
    "colab_type": "code",
    "id": "5QX6bJjGWXY9"
   },
   "outputs": [
    {
     "name": "stdout",
     "output_type": "stream",
     "text": [
      "Ascending order:  [9, 31, 34, 35, 38, 49, 60, 71, 74, 75, 87, 90]\n",
      "Descending order:  [90, 87, 75, 74, 71, 60, 49, 38, 35, 34, 31, 9]\n",
      "Average:  54.416666666666664\n"
     ]
    }
   ],
   "source": [
    "# Your code here\n",
    "from random import randint\n",
    "arr=[]\n",
    "for i in range(0,12):\n",
    "    arr.append(randint(1,100))\n",
    "print(\"Ascending order: \",sorted(arr))\n",
    "print(\"Descending order: \",sorted(arr,reverse=True))\n",
    "print(\"Average: \",sum(arr)/len(arr))\n"
   ]
  },
  {
   "cell_type": "markdown",
   "metadata": {
    "colab_type": "text",
    "id": "CmFoI4jDS9nx"
   },
   "source": [
    "# Question 2 \n",
    "\n",
    "(5 points). The formula that describes the volume V of a sphere with radius r is the following:\n",
    "\n",
    "$ V=\\frac{4}{3}\\ast\\ \\pi\\ast\\ r^3 $\n",
    "\n",
    "Write a program to calculate the value of V when r is in the range of 1–10. Output the result in the following format:\n",
    "\n",
    "\tr\tV\n",
    "\t1\t…\n",
    "\t2\t…\n",
    "\t3\t…\n"
   ]
  },
  {
   "cell_type": "code",
   "execution_count": 150,
   "metadata": {
    "colab": {},
    "colab_type": "code",
    "id": "pEyqeioAT95b"
   },
   "outputs": [
    {
     "name": "stdout",
     "output_type": "stream",
     "text": [
      "r V\n",
      "1 4.1887902047863905\n",
      "2 33.510321638291124\n",
      "3 113.09733552923254\n",
      "4 268.082573106329\n",
      "5 523.5987755982989\n",
      "6 904.7786842338603\n",
      "7 1436.7550402417319\n",
      "8 2144.660584850632\n",
      "9 3053.6280592892786\n",
      "10 4188.790204786391\n"
     ]
    }
   ],
   "source": [
    "# Your code here\n",
    "import math\n",
    "print(\"r\",\"V\")\n",
    "for r in range(1,11):\n",
    "    V=(4/3)*math.pi*(r**3)\n",
    "    print(r,V)"
   ]
  },
  {
   "cell_type": "markdown",
   "metadata": {
    "colab_type": "text",
    "id": "z3tBE7E-Xn5X"
   },
   "source": [
    "# Question 3\n",
    "\n",
    "(40 points). In the field of Data Science, data is often formatted as a comma-delimited (CSV) file, where each line in a file corresponds to a field's value. Refer to Chapter 9 (p. 106) for more information on comma-delimited files. To answer this question, you will need to download the file [lab_assignment_02_denton_housing.csv](https://github.com/suthapalliuday/INFO5502-Summer2022/blob/main/datasets/lab_assignment_02_denton_housing.csv) included with this assignment. The file [lab_assignment_02_denton_housing.csv](https://github.com/suthapalliuday/INFO5502-Summer2022/blob/main/datasets/lab_assignment_02_denton_housing.csv) contains statistics about housing in the city of Denton from 2008 to 2014. Write a program to implement the following questions.\n",
    "\n",
    "(1) (10 pts) Calculate the difference in the number of Occupied Housing Units from year to year and print it. The difference must be calculated for the consecutive years such as 2008-2009, 2009-2010 etc. Finally, print the values in the ascending order.\n",
    "\n",
    "(2) (10 pts) For all the years, calculate the percentage of housing units which are vacant an occupied. Print the results in the following format:\n",
    "\n",
    "Year Vacant Housing Units Occupied Housing Units\n",
    "\n",
    "    2008  30%   70%                          \n",
    "\t2009 ----- -----\n",
    "\t2010 ----- -----\n",
    "    2011 ----- -----\n",
    "\t2012 ----- -----\n",
    "    2013 ----- -----\n",
    "\t2014 ----- -----\n",
    "  \n",
    "  \n",
    "\n",
    "(3) (10 pts) Calculate and print the valued and years in which the highest number of housing units were vacant and occupied. Print the results in the following format:  \n",
    "\n",
    "                              Year\tValue\n",
    "\tVacant Housing Units\t  -----   -----\n",
    "\tOccupied Housing Units\t-----   -----\n",
    "\n",
    "(4) (10 pts) Calculate the harmonic mean of the total housing units and print it out. You can find the information about harmonic mean here: https://ncalculators.com/statistics/harmonic-mean-calculator.htm"
   ]
  },
  {
   "cell_type": "code",
   "execution_count": 151,
   "metadata": {
    "colab": {},
    "colab_type": "code",
    "id": "lqGYuHBhcsRH"
   },
   "outputs": [
    {
     "name": "stdout",
     "output_type": "stream",
     "text": [
      "[-5091, -2622, -1565, -1404, 303, 795]\n"
     ]
    }
   ],
   "source": [
    "# Your code here\n",
    "# (1)\n",
    "import pandas as pd\n",
    "url='https://raw.githubusercontent.com/suthapalliuday/INFO5502-Summer2022/main/datasets/lab_assignment_02_denton_housing.csv'\n",
    "df=pd.read_csv(url)\n",
    "ocu_houses = df[df['title_field'] == 'Occupied Housing Units'].sort_values(by=['year'])\n",
    "differnce_yoy = [list(ocu_houses['value'].values)[i] - list(ocu_houses['value'].values)[i+1]for i in range(len(ocu_houses)-1)]\n",
    "differnce_yoy = sorted(differnce_yoy)  \n",
    "print(differnce_yoy)\n"
   ]
  },
  {
   "cell_type": "code",
   "execution_count": 152,
   "metadata": {},
   "outputs": [
    {
     "name": "stdout",
     "output_type": "stream",
     "text": [
      "   year  % of Vacant House  % of Occupied House\n",
      "0  2008          10.882653            89.117347\n",
      "1  2009           9.071116            90.928884\n",
      "2  2010           8.142556            91.857444\n",
      "3  2011           9.379522            90.620478\n",
      "4  2012           6.677600            93.322400\n",
      "5  2013           8.801788            91.198212\n",
      "6  2014           5.730111            94.269889\n"
     ]
    }
   ],
   "source": [
    "#2 For all the years, calculate the percentage of housing units which are vacant an occupied. Print the results in the following format:\n",
    "diffe_years = sorted(list(df['year'].unique()))   # legging list of unique year number\n",
    "occ_houses = df[df['title_field'] == 'Occupied Housing Units'].sort_values(by=['year'])\n",
    "vac_houses = df[df['title_field'] == 'Vacant Housing Units'].sort_values(by=['year'])\n",
    "\n",
    "new_df = pd.DataFrame()\n",
    "new_df['year'] = diffe_years\n",
    "new_df['Vacant House'] = vac_houses['value'].values\n",
    "new_df['Occupied House'] = occ_houses['value'].values\n",
    "new_df['% of Vacant House'] = [(new_df['Vacant House'][i] * 100) /\\\n",
    "                                           (new_df['Vacant House'][i] + new_df['Occupied House'][i])\\\n",
    "                                           for i in range(len(new_df))]\n",
    "new_df['% of Occupied House'] = [(new_df['Occupied House'][i] * 100) /\\\n",
    "                                           (new_df['Vacant House'][i] + new_df['Occupied House'][i])\\\n",
    "                                           for i in range(len(new_df))]\n",
    "print(new_df[['year', '% of Vacant House','% of Occupied House']])\n"
   ]
  },
  {
   "cell_type": "code",
   "execution_count": 153,
   "metadata": {},
   "outputs": [
    {
     "name": "stdout",
     "output_type": "stream",
     "text": [
      "Vacant Housing Units 2008 4483\n",
      "Occupied Housing Units 2014 46295\n"
     ]
    }
   ],
   "source": [
    "#3Calculate and print the valued and years in which the highest number of housing units were vacant and occupied. Print the results in the following format:  \n",
    "max_vac_houses = max(df[df['title_field'] == 'Vacant Housing Units'].value)\n",
    "vac_houses = vac_houses[vac_houses['value'] == max_vac_houses]\n",
    "vac_houses=vac_houses[['year','value']]\n",
    "values1 = vac_houses.to_string(index = False, header=False)\n",
    "\n",
    "max_occu_houses = max(df[df['title_field'] == 'Occupied Housing Units'].value)\n",
    "occ_houses = occ_houses[occ_houses['value'] == max_occu_houses]\n",
    "occ_houses=occ_houses[['year','value']]\n",
    "values = occ_houses.to_string(index = False, header=False)\n",
    "print(\"Vacant Housing Units\",values1)\n",
    "print(\"Occupied Housing Units\",values)\n"
   ]
  },
  {
   "cell_type": "code",
   "execution_count": 154,
   "metadata": {},
   "outputs": [
    {
     "name": "stdout",
     "output_type": "stream",
     "text": [
      "Harmonic Mean is 44398.28543969185 \n"
     ]
    }
   ],
   "source": [
    "#4\n",
    "import statistics\n",
    "occupiedHousingUnits = df.query('title_field == \"Total Housing Units\"')\n",
    "val_list =  list(occupiedHousingUnits['value'])\n",
    "print(\"Harmonic Mean is % s \" % (statistics.harmonic_mean(col_list)))"
   ]
  },
  {
   "cell_type": "code",
   "execution_count": null,
   "metadata": {},
   "outputs": [],
   "source": []
  },
  {
   "cell_type": "code",
   "execution_count": null,
   "metadata": {},
   "outputs": [],
   "source": []
  }
 ],
 "metadata": {
  "colab": {
   "authorship_tag": "ABX9TyOAjsNCkNulTpzgRQbHdy3f",
   "collapsed_sections": [],
   "include_colab_link": true,
   "name": "INFO5731_Assignment_One.ipynb",
   "provenance": []
  },
  "kernelspec": {
   "display_name": "Python 3",
   "language": "python",
   "name": "python3"
  },
  "language_info": {
   "codemirror_mode": {
    "name": "ipython",
    "version": 3
   },
   "file_extension": ".py",
   "mimetype": "text/x-python",
   "name": "python",
   "nbconvert_exporter": "python",
   "pygments_lexer": "ipython3",
   "version": "3.8.8"
  }
 },
 "nbformat": 4,
 "nbformat_minor": 1
}
